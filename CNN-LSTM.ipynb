{
 "cells": [
  {
   "cell_type": "code",
   "execution_count": 162,
   "metadata": {},
   "outputs": [
    {
     "name": "stdout",
     "output_type": "stream",
     "text": [
      "3.7.4 (default, Aug  9 2019, 18:34:13) [MSC v.1915 64 bit (AMD64)]\n",
      "Python Version 3.7.4\n",
      "Tensorflow Version: 2.1.0\n",
      "sklearn Version 0.21.3\n",
      "Keras Version 2.3.1\n"
     ]
    }
   ],
   "source": [
    "#VERSION INFO\n",
    "import sys\n",
    "import sklearn\n",
    "import tensorflow \n",
    "import keras\n",
    "import platform\n",
    "\n",
    "print (sys.version)\n",
    "print(\"Python Version\",  platform.python_version())\n",
    "print (\"Tensorflow Version:\", tensorflow.__version__)\n",
    "print (\"sklearn Version\",sklearn.__version__)\n",
    "print (\"Keras Version\",keras.__version__)"
   ]
  },
  {
   "cell_type": "code",
   "execution_count": 163,
   "metadata": {},
   "outputs": [],
   "source": [
    "import pandas as pd\n",
    "import nltk\n",
    "from nltk.corpus import stopwords\n",
    "import re\n",
    "import string\n",
    "from nltk.tokenize import word_tokenize\n",
    "import csv"
   ]
  },
  {
   "cell_type": "code",
   "execution_count": 164,
   "metadata": {},
   "outputs": [],
   "source": [
    "#Misc\n",
    "import pandas as pd\n",
    "import numpy as np\n",
    "import nltk\n",
    "from nltk.corpus import stopwords\n",
    "from nltk.stem.porter import PorterStemmer\n",
    "import re\n",
    "\n",
    "#Sci-kit learn\n",
    "from sklearn.model_selection import train_test_split\n",
    "from sklearn.metrics import confusion_matrix, accuracy_score\n",
    "from sklearn.metrics import classification_report\n",
    "\n",
    "# Keras\n",
    "from keras.preprocessing.text import Tokenizer\n",
    "from keras.preprocessing.sequence import pad_sequences\n",
    "from keras.models import Sequential\n",
    "from keras.layers import Dense, Flatten, LSTM, Conv1D, MaxPooling1D, Dropout, Activation\n",
    "from keras.layers.embeddings import Embedding"
   ]
  },
  {
   "cell_type": "code",
   "execution_count": 165,
   "metadata": {},
   "outputs": [
    {
     "name": "stdout",
     "output_type": "stream",
     "text": [
      "      id                                              tweet subtask_a  \\\n",
      "0  86426  @USER She should ask a few native Americans wh...       OFF   \n",
      "1  90194  @USER @USER Go home you’re drunk!!! @USER #MAG...       OFF   \n",
      "2  16820  Amazon is investigating Chinese employees who ...       NOT   \n",
      "3  62688  @USER Someone should'veTaken\" this piece of sh...       OFF   \n",
      "4  43605  @USER @USER Obama wanted liberals &amp; illega...       NOT   \n",
      "\n",
      "  subtask_b subtask_c  \n",
      "0       UNT       NaN  \n",
      "1       TIN       IND  \n",
      "2       NaN       NaN  \n",
      "3       UNT       NaN  \n",
      "4       NaN       NaN  \n"
     ]
    }
   ],
   "source": [
    "path = r'C:\\Users\\Mukuu\\Desktop\\MSc Proj'\n",
    "data = pd.read_table(path + r'\\OLID\\olid-training-v1.0.tsv')\n",
    "test_df = pd.read_csv(path + r'\\test_b_tweets_cleaned.csv')\n",
    "print(data.head())"
   ]
  },
  {
   "cell_type": "code",
   "execution_count": 166,
   "metadata": {},
   "outputs": [],
   "source": [
    "def clean_text(sentence):\n",
    "    trans = str.maketrans('','', string.punctuation)\n",
    "    emoji_pattern = re.compile(\"[\"\n",
    "                u\"\\U0001F600-\\U0001F64F\"  # emoticons\n",
    "                u\"\\U0001F300-\\U0001F5FF\"  # symbols & pictographs\n",
    "                u\"\\U0001F680-\\U0001F6FF\"  # transport & map symbols\n",
    "                u\"\\U0001F1E0-\\U0001F1FF\"  # flags (iOS)\n",
    "                u\"\\U00002702-\\U000027B0\"\n",
    "                u\"\\U000024C2-\\U0001F251\"\n",
    "                u\"\\U0001f926-\\U0001f937\"\n",
    "                u'\\U00010000-\\U0010ffff'\n",
    "                u\"\\u200d\"\n",
    "                u\"\\u2640-\\u2642\"\n",
    "                u\"\\u2600-\\u2B55\"\n",
    "                u\"\\u23cf\"\n",
    "                u\"\\u23e9\"\n",
    "                u\"\\u231a\"\n",
    "                u\"\\u3030\"\n",
    "                u\"\\ufe0f\"\n",
    "    \"]+\", flags=re.UNICODE)\n",
    "    stop_words = set(stopwords.words('english'))\n",
    "    for i in range(len(sentence)):\n",
    "        sentence[i] = sentence[i].lower()                # To lower case\n",
    "        sentence[i] = re.sub(r'\\d+', '', sentence[i])    # Remove numbers\n",
    "        sentence[i] = re.sub(r'’',r\"'\",sentence[i])     # Modify astrophies\n",
    "        sentence[i] = re.sub(r'”',r\"'\",sentence[i])\n",
    "        sentence[i] = re.sub('@user', '', sentence[i])   # Remove @user\n",
    "        sentence[i] = sentence[i].translate(trans)       # Remove punctuations\n",
    "        sentence[i] = emoji_pattern.sub(r'', sentence[i])# Remove imojis\n",
    "        #sentence[i] = sentence[i].strip()                # Remove white space\n",
    "        tokens = word_tokenize(sentence[i])\n",
    "        #print(tokens)\n",
    "        result = [i for i in tokens if not i in stop_words]\n",
    "        #print(result)\n",
    "        sentence[i] = result\n",
    "    return sentence\n",
    "# Concatenating everything\n",
    "def Concat(list_tokens):\n",
    "    result = []\n",
    "    for i in list_tokens:\n",
    "        temp = ''\n",
    "        for j in i:\n",
    "            temp = temp + j + ' '\n",
    "        #print(temp)\n",
    "        result.append(temp[:-1])\n",
    "    return result"
   ]
  },
  {
   "cell_type": "code",
   "execution_count": 167,
   "metadata": {},
   "outputs": [
    {
     "name": "stdout",
     "output_type": "stream",
     "text": [
      "13240\n"
     ]
    }
   ],
   "source": [
    "data = data[['tweet','subtask_b']]\n",
    "\n",
    "#Filtering data\n",
    "te = []\n",
    "la = []\n",
    "print(len(data))\n",
    "for i in range(len(data)):\n",
    "    #print(data['subtask_b'][i])\n",
    "    if data['subtask_b'][i] == 'TIN' or data['subtask_b'][i] == 'UNT':\n",
    "        te.append(data['tweet'][i])\n",
    "        la.append(data['subtask_b'][i])\n",
    "temp = {'tweet' : te,\n",
    "        'subtask_b' : la}\n",
    "data = pd.DataFrame(temp, columns = ['tweet','subtask_b'])\n",
    "# data"
   ]
  },
  {
   "cell_type": "code",
   "execution_count": 168,
   "metadata": {},
   "outputs": [
    {
     "name": "stdout",
     "output_type": "stream",
     "text": [
      "                                      tweet  label\n",
      "0                 ask native americans take      0\n",
      "1        go home youre drunk maga trump url      1\n",
      "2  someone shouldvetaken piece shit volcano      0\n",
      "3                           liberals kookoo      1\n",
      "4                        oh noes tough shit      0\n",
      "Offensive Tweets:  524\n",
      "Non Offensive Tweets:  3876\n"
     ]
    }
   ],
   "source": [
    "#PREPROCESSING CELL\n",
    "\n",
    "#REMOVING OTHER SUBTASKS\n",
    "# data = data[['tweet','subtask_a']]\n",
    "\n",
    "#FACTORIZING LABELS\n",
    "data['label']=data['subtask_b'].factorize()[0]\n",
    "data = data[['tweet','label']]\n",
    "\n",
    "sentence = []\n",
    "for i in data['tweet']:\n",
    "    sentence.append(i)\n",
    "clean_tokens = clean_text(sentence)\n",
    "clean_sentences = Concat(clean_tokens)\n",
    "cleaned = {'tweet' : clean_sentences,\n",
    "           'label' : data['label']}\n",
    "data = pd.DataFrame(cleaned, columns = ['tweet','label'])\n",
    "\n",
    "print(data.head())\n",
    "\n",
    "count0 = 0\n",
    "count1 = 0\n",
    "for i in data[\"label\"]:\n",
    "    if i == 0:\n",
    "        count0+=1\n",
    "    else:\n",
    "        count1+=1\n",
    "print(\"Offensive Tweets: \",count0)\n",
    "print(\"Non Offensive Tweets: \",count1)"
   ]
  },
  {
   "cell_type": "code",
   "execution_count": 169,
   "metadata": {},
   "outputs": [
    {
     "name": "stdout",
     "output_type": "stream",
     "text": [
      "(4400, 100)\n"
     ]
    }
   ],
   "source": [
    "#TOKENIZING AND CREATING SEQUENCE 1\n",
    "vocabulary_size = 30000\n",
    "max_len = 100\n",
    "tokenizer = Tokenizer(num_words=vocabulary_size)\n",
    "tokenizer.fit_on_texts(data['tweet'])\n",
    "\n",
    "sequences = tokenizer.texts_to_sequences(data['tweet'])\n",
    "X = pad_sequences(sequences, maxlen=max_len)\n",
    "print(X.shape)\n",
    "y = np.array(data['label'])"
   ]
  },
  {
   "cell_type": "code",
   "execution_count": 170,
   "metadata": {},
   "outputs": [
    {
     "name": "stdout",
     "output_type": "stream",
     "text": [
      "                                               tweet  label\n",
      "0  top completely fuck trainer boyfriend went fuc...      0\n",
      "1  course many slovenes respond along lines fool ...      1\n",
      "2                      means go away sorry ass kkkkk      1\n",
      "3   hes closer trumps ass greatly shortens kiss time      1\n",
      "4  looking back old photos makes physically sick ...      0\n",
      "Offensive Tweets:  572\n",
      "Non Offensive Tweets:  850\n"
     ]
    }
   ],
   "source": [
    "test_df\n",
    "test = {'tweet':test_df['text'],\n",
    "        'label':test_df['label'].factorize()[0]\n",
    "}\n",
    "test = pd.DataFrame(test,columns = ['tweet','label'])\n",
    "print(test.head())\n",
    "count0 = 0\n",
    "count1 = 0\n",
    "for i in test[\"label\"]:\n",
    "    if i == 0:\n",
    "        count0+=1\n",
    "    else:\n",
    "        count1+=1\n",
    "print(\"Offensive Tweets: \",count0)\n",
    "print(\"Non Offensive Tweets: \",count1)"
   ]
  },
  {
   "cell_type": "code",
   "execution_count": 171,
   "metadata": {},
   "outputs": [
    {
     "name": "stdout",
     "output_type": "stream",
     "text": [
      "(1422, 100)\n"
     ]
    }
   ],
   "source": [
    "#TOKENIZING AND CREATING SEQUENCE 2\n",
    "vocabulary_size = 30000\n",
    "max_len = 100\n",
    "tokenizer = Tokenizer(num_words=vocabulary_size)\n",
    "tokenizer.fit_on_texts(test['tweet'])\n",
    "sequences = tokenizer.texts_to_sequences(test['tweet'])\n",
    "X_test = pad_sequences(sequences, maxlen=max_len)\n",
    "print(X_test.shape)\n",
    "y_test = np.array(test['label'])"
   ]
  },
  {
   "cell_type": "code",
   "execution_count": 172,
   "metadata": {},
   "outputs": [],
   "source": [
    "#GLOBAL VARIABLES\n",
    "EMBEDDING_DIM = 200\n",
    "class_weight = {0:1,1:1}\n",
    "epochs = 10\n",
    "split = 0.2"
   ]
  },
  {
   "cell_type": "code",
   "execution_count": 173,
   "metadata": {},
   "outputs": [
    {
     "name": "stdout",
     "output_type": "stream",
     "text": [
      "Embeddings Weight Calculated\n"
     ]
    }
   ],
   "source": [
    "#GLOVE WORD EMBEDDINGS\n",
    "embeddings_index = dict()\n",
    "f = open('glove.twitter.27B/glove.twitter.27B.200d.txt')\n",
    "for line in f:\n",
    "    values = line.split()\n",
    "    word = values[0]\n",
    "    coefs = np.asarray(values[1:], dtype='float32')\n",
    "    embeddings_index[word] = coefs\n",
    "f.close()\n",
    "\n",
    "embedding_matrix = np.zeros((vocabulary_size, 200))\n",
    "for word, index in tokenizer.word_index.items():\n",
    "    if index > vocabulary_size - 1:\n",
    "        break\n",
    "    else:\n",
    "        embedding_vector = embeddings_index.get(word)\n",
    "        if embedding_vector is not None:\n",
    "            embedding_matrix[index] = embedding_vector\n",
    "print(\"Embeddings Weight Calculated\")"
   ]
  },
  {
   "cell_type": "code",
   "execution_count": 174,
   "metadata": {},
   "outputs": [],
   "source": [
    "#CROSS VALIDATION \n",
    "\n",
    "X_train, X_test, y_train, y_test = X, X_test, y, y_test"
   ]
  },
  {
   "cell_type": "code",
   "execution_count": 175,
   "metadata": {},
   "outputs": [
    {
     "name": "stdout",
     "output_type": "stream",
     "text": [
      "Fitting The model\n",
      "Train on 3520 samples, validate on 880 samples\n",
      "Epoch 1/10\n",
      "3520/3520 [==============================] - 66s 19ms/step - loss: 0.3863 - accuracy: 0.8781 - val_loss: 0.3559 - val_accuracy: 0.8830\n",
      "Epoch 2/10\n",
      "3520/3520 [==============================] - 63s 18ms/step - loss: 0.3593 - accuracy: 0.8804 - val_loss: 0.3561 - val_accuracy: 0.8830\n",
      "Epoch 3/10\n",
      "3520/3520 [==============================] - 64s 18ms/step - loss: 0.3485 - accuracy: 0.8804 - val_loss: 0.3581 - val_accuracy: 0.8830\n",
      "Epoch 4/10\n",
      "3520/3520 [==============================] - 61s 17ms/step - loss: 0.3274 - accuracy: 0.8801 - val_loss: 0.3788 - val_accuracy: 0.8807\n",
      "Epoch 5/10\n",
      "3520/3520 [==============================] - 61s 17ms/step - loss: 0.3039 - accuracy: 0.8841 - val_loss: 0.4164 - val_accuracy: 0.8682\n",
      "Epoch 6/10\n",
      "3520/3520 [==============================] - 62s 18ms/step - loss: 0.2668 - accuracy: 0.8960 - val_loss: 0.4463 - val_accuracy: 0.8727\n",
      "Epoch 7/10\n",
      "3520/3520 [==============================] - 61s 17ms/step - loss: 0.2351 - accuracy: 0.9057 - val_loss: 0.5521 - val_accuracy: 0.8409\n",
      "Epoch 8/10\n",
      "3520/3520 [==============================] - 61s 17ms/step - loss: 0.2018 - accuracy: 0.9219 - val_loss: 0.5427 - val_accuracy: 0.8466\n",
      "Epoch 9/10\n",
      "3520/3520 [==============================] - 62s 18ms/step - loss: 0.1687 - accuracy: 0.9321 - val_loss: 0.5854 - val_accuracy: 0.8466\n",
      "Epoch 10/10\n",
      "3520/3520 [==============================] - 63s 18ms/step - loss: 0.1375 - accuracy: 0.9409 - val_loss: 0.8837 - val_accuracy: 0.8568\n"
     ]
    }
   ],
   "source": [
    "\n",
    "#MODEL ARCHITECTURE 2\n",
    "print(\"Fitting The model\")\n",
    "model_glove = Sequential()\n",
    "model_glove.add(Embedding(vocabulary_size, 200, input_length=max_len, weights=[embedding_matrix], trainable=False))\n",
    "#model_glove.add(Dropout(0.25))\n",
    "model_glove.add(LSTM(200, return_sequences=True))\n",
    "model_glove.add(LSTM(200, go_backwards=True, return_sequences=True))\n",
    "#model_glove.add(Dropout(0.25))\n",
    "model_glove.add(Conv1D(200,3,padding='valid',activation='relu',strides=1))\n",
    "model_glove.add(Conv1D(64,3,padding='valid',activation='relu',strides=1))\n",
    "model_glove.add(MaxPooling1D(pool_size=4))\n",
    "# model.add(Flatten())\n",
    "# model_glove.add(Dense(40))\n",
    "# model_glove.add(Dense(10))\n",
    "model_glove.add(Flatten())\n",
    "model_glove.add(Dense(2))\n",
    "model_glove.add(Activation('softmax'))\n",
    "opt = keras.optimizers.Adam(learning_rate = 0.0005)\n",
    "model_glove.compile(loss='sparse_categorical_crossentropy', optimizer=opt, metrics=['accuracy'])\n",
    "\n",
    "## Fit train data\n",
    "hist = model_glove.fit(X_train,\n",
    "                       y_train,\n",
    "                       validation_split = split,\n",
    "                       epochs = epochs,\n",
    "                       class_weight = class_weight)"
   ]
  },
  {
   "cell_type": "code",
   "execution_count": 176,
   "metadata": {},
   "outputs": [
    {
     "name": "stdout",
     "output_type": "stream",
     "text": [
      "123\n",
      "1422/1422 [==============================] - 5s 4ms/step\n",
      "Confusion Matrix:\n",
      "[[ 20 552]\n",
      " [ 19 831]]\n",
      "Test Loss: 3.119399836462426\n",
      "Test Accuracy: 0.5984528660774231\n",
      "\n",
      "Classification Report: \n",
      "              precision    recall  f1-score   support\n",
      "\n",
      "     Class 0     0.5128    0.0350    0.0655       572\n",
      "     Class 1     0.6009    0.9776    0.7443       850\n",
      "\n",
      "    accuracy                         0.5985      1422\n",
      "   macro avg     0.5568    0.5063    0.4049      1422\n",
      "weighted avg     0.5655    0.5985    0.4712      1422\n",
      "\n",
      "Sklearn Accuracy:  0.5984528832630098\n"
     ]
    }
   ],
   "source": [
    "#EVALUATE THE MODEL\n",
    "print('123')\n",
    "from sklearn.metrics import classification_report \n",
    "score = model_glove.evaluate(X_test,y_test,batch_size=32,verbose=1)\n",
    "y_pred = model_glove.predict_classes(X_test, batch_size=32, verbose=0)\n",
    "conf_mat = confusion_matrix(y_test, y_pred)\n",
    "\n",
    "#DISPLAYING SCORES\n",
    "print(\"Confusion Matrix:\")\n",
    "print(conf_mat)\n",
    "print(\"Test Loss:\", score[0])\n",
    "print(\"Test Accuracy:\", score[1])\n",
    "\n",
    "print(\"\\nClassification Report: \")\n",
    "target_names = [\"Class {}\".format(i) for i in range(2)]\n",
    "print(classification_report(y_test, y_pred, \n",
    "                            target_names=target_names, \n",
    "                            digits = 4))\n",
    "accuracy_sklearn = accuracy_score(y_test, y_pred, \n",
    "                                  normalize=True,\n",
    "                                  sample_weight=None)\n",
    "print(\"Sklearn Accuracy: \",accuracy_sklearn)"
   ]
  },
  {
   "cell_type": "code",
   "execution_count": 177,
   "metadata": {},
   "outputs": [
    {
     "data": {
      "image/png": "[encoded data removed]",
      "text/plain": [
       "<Figure size 432x288 with 1 Axes>"
      ]
     },
     "metadata": {
      "needs_background": "light"
     },
     "output_type": "display_data"
    }
   ],
   "source": [
    "#PLOTS\n",
    "import matplotlib.pyplot as plt\n",
    "\n",
    "# plot some data\n",
    "plt.plot(hist.history['loss'], label='loss')\n",
    "plt.plot(hist.history['val_loss'], label='val_loss')\n",
    "plt.legend()\n",
    "plt.show()"
   ]
  },
  {
   "cell_type": "code",
   "execution_count": 178,
   "metadata": {},
   "outputs": [
    {
     "data": {
      "image/png": "[encoded data removed]",
      "text/plain": [
       "<Figure size 432x288 with 1 Axes>"
      ]
     },
     "metadata": {
      "needs_background": "light"
     },
     "output_type": "display_data"
    }
   ],
   "source": [
    "#ACCURACIES\n",
    "plt.plot(hist.history['accuracy'], label='accuracy')\n",
    "plt.plot(hist.history['val_accuracy'], label='val_accuracy')\n",
    "plt.legend()\n",
    "plt.show()"
   ]
  },
  {
   "cell_type": "code",
   "execution_count": 179,
   "metadata": {},
   "outputs": [
    {
     "name": "stdout",
     "output_type": "stream",
     "text": [
      "Model: \"sequential_10\"\n",
      "_________________________________________________________________\n",
      "Layer (type)                 Output Shape              Param #   \n",
      "=================================================================\n",
      "embedding_10 (Embedding)     (None, 100, 200)          6000000   \n",
      "_________________________________________________________________\n",
      "lstm_19 (LSTM)               (None, 100, 200)          320800    \n",
      "_________________________________________________________________\n",
      "lstm_20 (LSTM)               (None, 100, 200)          320800    \n",
      "_________________________________________________________________\n",
      "conv1d_19 (Conv1D)           (None, 98, 200)           120200    \n",
      "_________________________________________________________________\n",
      "conv1d_20 (Conv1D)           (None, 96, 64)            38464     \n",
      "_________________________________________________________________\n",
      "max_pooling1d_10 (MaxPooling (None, 24, 64)            0         \n",
      "_________________________________________________________________\n",
      "flatten_10 (Flatten)         (None, 1536)              0         \n",
      "_________________________________________________________________\n",
      "dense_12 (Dense)             (None, 2)                 3074      \n",
      "_________________________________________________________________\n",
      "activation_10 (Activation)   (None, 2)                 0         \n",
      "=================================================================\n",
      "Total params: 6,803,338\n",
      "Trainable params: 803,338\n",
      "Non-trainable params: 6,000,000\n",
      "_________________________________________________________________\n"
     ]
    }
   ],
   "source": [
    "model_glove.summary()"
   ]
  },
  {
   "cell_type": "code",
   "execution_count": null,
   "metadata": {},
   "outputs": [],
   "source": []
  },
  {
   "cell_type": "code",
   "execution_count": null,
   "metadata": {},
   "outputs": [],
   "source": []
  },
  {
   "cell_type": "code",
   "execution_count": null,
   "metadata": {},
   "outputs": [],
   "source": []
  },
  {
   "cell_type": "code",
   "execution_count": null,
   "metadata": {},
   "outputs": [],
   "source": []
  },
  {
   "cell_type": "code",
   "execution_count": null,
   "metadata": {},
   "outputs": [],
   "source": []
  },
  {
   "cell_type": "code",
   "execution_count": null,
   "metadata": {},
   "outputs": [],
   "source": []
  }
 ],
 "metadata": {
  "kernelspec": {
   "display_name": "Python 3",
   "language": "python",
   "name": "python3"
  },
  "language_info": {
   "codemirror_mode": {
    "name": "ipython",
    "version": 3
   },
   "file_extension": ".py",
   "mimetype": "text/x-python",
   "name": "python",
   "nbconvert_exporter": "python",
   "pygments_lexer": "ipython3",
   "version": "3.7.4"
  }
 },
 "nbformat": 4,
 "nbformat_minor": 2
}
